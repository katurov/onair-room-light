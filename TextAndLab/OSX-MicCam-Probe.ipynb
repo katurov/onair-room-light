{
 "cells": [
  {
   "cell_type": "code",
   "execution_count": 1,
   "metadata": {},
   "outputs": [],
   "source": [
    "import AVFoundation\n",
    "import CoreAudio\n",
    "import CoreMediaIO\n",
    "import struct\n",
    "import json\n",
    "\n",
    "\n",
    "vopa = CoreMediaIO.CMIOObjectPropertyAddress( \n",
    "    CoreMediaIO.kCMIODevicePropertyDeviceIsRunningSomewhere \n",
    ")\n",
    "\n",
    "aopa = CoreAudio.AudioObjectPropertyAddress(\n",
    "    CoreAudio.kAudioDevicePropertyDeviceIsRunningSomewhere,\n",
    "    CoreAudio.kAudioObjectPropertyScopeGlobal,\n",
    "    CoreAudio.kAudioObjectPropertyElementMaster\n",
    ")"
   ]
  },
  {
   "cell_type": "code",
   "execution_count": 2,
   "metadata": {},
   "outputs": [
    {
     "name": "stderr",
     "output_type": "stream",
     "text": [
      "2024-08-23 23:16:54.170 Python[49333:83203881] WARNING: Add NSCameraUseContinuityCameraDeviceType to your Info.plist to use AVCaptureDeviceTypeContinuityCamera.\n"
     ]
    },
    {
     "name": "stdout",
     "output_type": "stream",
     "text": [
      "39 FaceTime HD Camera\n",
      "35 Fataffe Camera\n"
     ]
    },
    {
     "name": "stderr",
     "output_type": "stream",
     "text": [
      "2024-08-23 23:16:54.497 Python[49333:83203881] WARNING: AVCaptureDeviceTypeExternal is deprecated for Continuity Cameras. Please use AVCaptureDeviceTypeContinuityCamera and add NSCameraUseContinuityCameraDeviceType to your Info.plist.\n"
     ]
    }
   ],
   "source": [
    "device_types = [\n",
    "    AVFoundation.AVCaptureDeviceTypeBuiltInWideAngleCamera,\n",
    "    AVFoundation.AVCaptureDeviceTypeContinuityCamera,\n",
    "    AVFoundation.AVCaptureDeviceTypeExternal,  # Covers external cameras\n",
    "]\n",
    "\n",
    "discovery_session = (\n",
    "    AVFoundation.AVCaptureDeviceDiscoverySession.discoverySessionWithDeviceTypes_mediaType_position_(\n",
    "        device_types,\n",
    "        AVFoundation.AVMediaTypeVideo,\n",
    "        AVFoundation.AVCaptureDevicePositionUnspecified,\n",
    "        )\n",
    "    )\n",
    "\n",
    "devices = discovery_session.devices()\n",
    "\n",
    "for device in devices :\n",
    "    print( device.connectionID(), device.localizedName() )\n",
    "\n"
   ]
  },
  {
   "cell_type": "code",
   "execution_count": 5,
   "metadata": {},
   "outputs": [],
   "source": [
    "\n",
    "mic_ids = {\n",
    "    mic.connectionID(): mic\n",
    "    for mic in AVFoundation.AVCaptureDevice.devicesWithMediaType_(\n",
    "        AVFoundation.AVMediaTypeAudio\n",
    "    )\n",
    "}\n",
    "\n",
    "aresponse = []\n",
    "for mic_id in mic_ids:\n",
    "    response = CoreAudio.AudioObjectGetPropertyData(mic_id, aopa, 0, [], 4, None)\n",
    "    try :\n",
    "        aresponse.append(\n",
    "            {\n",
    "                \"Mic\" : str(mic_ids[mic_id].localizedName()),\n",
    "                \"Active\" : struct.unpack('I', response[2])[0]\n",
    "            }\n",
    "        )\n",
    "    except Exception as Err :\n",
    "        aresponse.append(\n",
    "            {\n",
    "                \"Mic\" : str(mic_ids[mic_id].localizedName()),\n",
    "                \"Active\" : None\n",
    "            }\n",
    "        )\n"
   ]
  },
  {
   "cell_type": "code",
   "execution_count": 6,
   "metadata": {},
   "outputs": [],
   "source": [
    "vid_ids = {\n",
    "    vid.connectionID(): vid\n",
    "    for vid in AVFoundation.AVCaptureDevice.devicesWithMediaType_(\n",
    "        AVFoundation.AVMediaTypeVideo\n",
    "    )\n",
    "}\n",
    "\n",
    "vresponse = []\n",
    "for (did, cam) in vid_ids.items() :\n",
    "    response = CoreMediaIO.CMIOObjectGetPropertyData( did, vopa, 0, None, 4, None, None )\n",
    "    try :\n",
    "        vresponse.append(\n",
    "            {\n",
    "                \"Cam\" : str(cam.localizedName()),\n",
    "                \"Active\" : struct.unpack('I', response[3])[0]\n",
    "            }\n",
    "        ) \n",
    "    except Exception as Err :\n",
    "        vresponse.append(\n",
    "            {\n",
    "                \"Cam\" : str(cam.localizedName()),\n",
    "                \"Active\" : None\n",
    "            }\n",
    "        ) \n"
   ]
  },
  {
   "cell_type": "code",
   "execution_count": 7,
   "metadata": {},
   "outputs": [
    {
     "name": "stdout",
     "output_type": "stream",
     "text": [
      "{\n",
      "    \"Audio\": [\n",
      "        {\n",
      "            \"Mic\": \"Fataffe Microphone\",\n",
      "            \"Active\": null\n",
      "        },\n",
      "        {\n",
      "            \"Mic\": \"MacBook Pro Microphone\",\n",
      "            \"Active\": 0\n",
      "        },\n",
      "        {\n",
      "            \"Mic\": \"External Microphone\",\n",
      "            \"Active\": 1\n",
      "        },\n",
      "        {\n",
      "            \"Mic\": \"Microsoft Teams Audio\",\n",
      "            \"Active\": null\n",
      "        }\n",
      "    ],\n",
      "    \"Video\": [\n",
      "        {\n",
      "            \"Cam\": \"FaceTime HD Camera\",\n",
      "            \"Active\": 1\n",
      "        },\n",
      "        {\n",
      "            \"Cam\": \"Fataffe Camera\",\n",
      "            \"Active\": 0\n",
      "        }\n",
      "    ]\n",
      "}\n"
     ]
    }
   ],
   "source": [
    "print( json.dumps({ \"Audio\" : aresponse, \"Video\" : vresponse}, indent=4))"
   ]
  }
 ],
 "metadata": {
  "kernelspec": {
   "display_name": "Python 3",
   "language": "python",
   "name": "python3"
  },
  "language_info": {
   "codemirror_mode": {
    "name": "ipython",
    "version": 3
   },
   "file_extension": ".py",
   "mimetype": "text/x-python",
   "name": "python",
   "nbconvert_exporter": "python",
   "pygments_lexer": "ipython3",
   "version": "3.10.14"
  }
 },
 "nbformat": 4,
 "nbformat_minor": 2
}
